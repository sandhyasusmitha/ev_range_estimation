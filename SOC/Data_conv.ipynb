{
 "cells": [
  {
   "cell_type": "code",
   "execution_count": 15,
   "metadata": {},
   "outputs": [],
   "source": [
    "from scipy.io import loadmat\n",
    "import pandas as pd\n",
    "from IPython.display import display\n",
    "data = loadmat('.//drive_cycles//03-19-17_03.25 25degC_Cycle_2_Pan18650PF.mat')"
   ]
  },
  {
   "cell_type": "code",
   "execution_count": 16,
   "metadata": {},
   "outputs": [
    {
     "data": {
      "text/plain": [
       "dict_keys(['__header__', '__version__', '__globals__', 'meas'])"
      ]
     },
     "execution_count": 16,
     "metadata": {},
     "output_type": "execute_result"
    }
   ],
   "source": [
    "data.keys()"
   ]
  },
  {
   "cell_type": "code",
   "execution_count": 17,
   "metadata": {},
   "outputs": [
    {
     "data": {
      "text/plain": [
       "array([[(array([[array(['3/19/2017 3:25:10 AM'], dtype='<U20')],\n",
       "               [array(['3/19/2017 3:25:10 AM'], dtype='<U20')],\n",
       "               [array(['3/19/2017 3:25:10 AM'], dtype='<U20')],\n",
       "               ...,\n",
       "               [array(['3/19/2017 6:30:57 AM'], dtype='<U20')],\n",
       "               [array(['3/19/2017 6:30:57 AM'], dtype='<U20')],\n",
       "               [array(['3/19/2017 6:30:57 AM'], dtype='<U20')]], dtype=object), array([[4.1703 ],\n",
       "               [4.1066 ],\n",
       "               [4.08473],\n",
       "               ...,\n",
       "               [3.29481],\n",
       "               [3.29481],\n",
       "               [3.29481]]), array([[-2.63768],\n",
       "               [-2.6973 ],\n",
       "               [-2.73486],\n",
       "               ...,\n",
       "               [ 0.     ],\n",
       "               [ 0.     ],\n",
       "               [ 0.     ]]), array([[-8.0000e-05],\n",
       "               [-1.5000e-04],\n",
       "               [-2.2000e-04],\n",
       "               ...,\n",
       "               [-2.7114e+00],\n",
       "               [-2.7114e+00],\n",
       "               [-2.7114e+00]]), array([[-3.30000e-04],\n",
       "               [-6.30000e-04],\n",
       "               [-9.20000e-04],\n",
       "               ...,\n",
       "               [-9.47802e+00],\n",
       "               [-9.47802e+00],\n",
       "               [-9.47802e+00]]), array([[-10.9999169 ],\n",
       "               [-11.07673218],\n",
       "               [-11.17116469],\n",
       "               ...,\n",
       "               [  0.        ],\n",
       "               [  0.        ],\n",
       "               [  0.        ]]), array([[25.6307 ],\n",
       "               [25.6307 ],\n",
       "               [25.6307 ],\n",
       "               ...,\n",
       "               [26.89723],\n",
       "               [26.88602],\n",
       "               [26.88602]]), array([[0.00000000e+00],\n",
       "               [9.99994576e-02],\n",
       "               [2.05993652e-01],\n",
       "               ...,\n",
       "               [1.11469370e+04],\n",
       "               [1.11470460e+04],\n",
       "               [1.11470460e+04]]), array([[25],\n",
       "               [25],\n",
       "               [25],\n",
       "               ...,\n",
       "               [25],\n",
       "               [25],\n",
       "               [25]], dtype=uint8))                                                              ]],\n",
       "      dtype=[('TimeStamp', 'O'), ('Voltage', 'O'), ('Current', 'O'), ('Ah', 'O'), ('Wh', 'O'), ('Power', 'O'), ('Battery_Temp_degC', 'O'), ('Time', 'O'), ('Chamber_Temp_degC', 'O')])"
      ]
     },
     "metadata": {},
     "output_type": "display_data"
    }
   ],
   "source": [
    "x=data['meas']\n",
    "display(x)"
   ]
  },
  {
   "cell_type": "code",
   "execution_count": 14,
   "metadata": {},
   "outputs": [
    {
     "ename": "ValueError",
     "evalue": "Data must be 1-dimensional",
     "output_type": "error",
     "traceback": [
      "\u001b[1;31m---------------------------------------------------------------------------\u001b[0m",
      "\u001b[1;31mValueError\u001b[0m                                Traceback (most recent call last)",
      "Cell \u001b[1;32mIn[14], line 1\u001b[0m\n\u001b[1;32m----> 1\u001b[0m df \u001b[39m=\u001b[39m pd\u001b[39m.\u001b[39;49mDataFrame(data\u001b[39m.\u001b[39;49mget(\u001b[39m'\u001b[39;49m\u001b[39mmeas\u001b[39;49m\u001b[39m'\u001b[39;49m))\n\u001b[0;32m      2\u001b[0m df\u001b[39m.\u001b[39mhead()\n",
      "File \u001b[1;32mc:\\Users\\dkvhe\\AppData\\Local\\Programs\\Python\\Python311\\Lib\\site-packages\\pandas\\core\\frame.py:702\u001b[0m, in \u001b[0;36mDataFrame.__init__\u001b[1;34m(self, data, index, columns, dtype, copy)\u001b[0m\n\u001b[0;32m    699\u001b[0m \u001b[39mif\u001b[39;00m data\u001b[39m.\u001b[39mdtype\u001b[39m.\u001b[39mnames:\n\u001b[0;32m    700\u001b[0m     \u001b[39m# i.e. numpy structured array\u001b[39;00m\n\u001b[0;32m    701\u001b[0m     data \u001b[39m=\u001b[39m cast(np\u001b[39m.\u001b[39mndarray, data)\n\u001b[1;32m--> 702\u001b[0m     mgr \u001b[39m=\u001b[39m rec_array_to_mgr(\n\u001b[0;32m    703\u001b[0m         data,\n\u001b[0;32m    704\u001b[0m         index,\n\u001b[0;32m    705\u001b[0m         columns,\n\u001b[0;32m    706\u001b[0m         dtype,\n\u001b[0;32m    707\u001b[0m         copy,\n\u001b[0;32m    708\u001b[0m         typ\u001b[39m=\u001b[39;49mmanager,\n\u001b[0;32m    709\u001b[0m     )\n\u001b[0;32m    710\u001b[0m \u001b[39melif\u001b[39;00m \u001b[39mgetattr\u001b[39m(data, \u001b[39m\"\u001b[39m\u001b[39mname\u001b[39m\u001b[39m\"\u001b[39m, \u001b[39mNone\u001b[39;00m) \u001b[39mis\u001b[39;00m \u001b[39mnot\u001b[39;00m \u001b[39mNone\u001b[39;00m:\n\u001b[0;32m    711\u001b[0m     \u001b[39m# i.e. Series/Index with non-None name\u001b[39;00m\n\u001b[0;32m    712\u001b[0m     mgr \u001b[39m=\u001b[39m dict_to_mgr(\n\u001b[0;32m    713\u001b[0m         \u001b[39m# error: Item \"ndarray\" of \"Union[ndarray, Series, Index]\" has no\u001b[39;00m\n\u001b[0;32m    714\u001b[0m         \u001b[39m# attribute \"name\"\u001b[39;00m\n\u001b[1;32m   (...)\u001b[0m\n\u001b[0;32m    719\u001b[0m         typ\u001b[39m=\u001b[39mmanager,\n\u001b[0;32m    720\u001b[0m     )\n",
      "File \u001b[1;32mc:\\Users\\dkvhe\\AppData\\Local\\Programs\\Python\\Python311\\Lib\\site-packages\\pandas\\core\\internals\\construction.py:206\u001b[0m, in \u001b[0;36mrec_array_to_mgr\u001b[1;34m(data, index, columns, dtype, copy, typ)\u001b[0m\n\u001b[0;32m    203\u001b[0m \u001b[39mif\u001b[39;00m columns \u001b[39mis\u001b[39;00m \u001b[39mNone\u001b[39;00m:\n\u001b[0;32m    204\u001b[0m     columns \u001b[39m=\u001b[39m arr_columns\n\u001b[1;32m--> 206\u001b[0m mgr \u001b[39m=\u001b[39m arrays_to_mgr(arrays, columns, index, dtype\u001b[39m=\u001b[39;49mdtype, typ\u001b[39m=\u001b[39;49mtyp)\n\u001b[0;32m    208\u001b[0m \u001b[39mif\u001b[39;00m copy:\n\u001b[0;32m    209\u001b[0m     mgr \u001b[39m=\u001b[39m mgr\u001b[39m.\u001b[39mcopy()\n",
      "File \u001b[1;32mc:\\Users\\dkvhe\\AppData\\Local\\Programs\\Python\\Python311\\Lib\\site-packages\\pandas\\core\\internals\\construction.py:123\u001b[0m, in \u001b[0;36marrays_to_mgr\u001b[1;34m(arrays, columns, index, dtype, verify_integrity, typ, consolidate)\u001b[0m\n\u001b[0;32m    120\u001b[0m         index \u001b[39m=\u001b[39m ensure_index(index)\n\u001b[0;32m    122\u001b[0m     \u001b[39m# don't force copy because getting jammed in an ndarray anyway\u001b[39;00m\n\u001b[1;32m--> 123\u001b[0m     arrays \u001b[39m=\u001b[39m _homogenize(arrays, index, dtype)\n\u001b[0;32m    124\u001b[0m     \u001b[39m# _homogenize ensures\u001b[39;00m\n\u001b[0;32m    125\u001b[0m     \u001b[39m#  - all(len(x) == len(index) for x in arrays)\u001b[39;00m\n\u001b[0;32m    126\u001b[0m     \u001b[39m#  - all(x.ndim == 1 for x in arrays)\u001b[39;00m\n\u001b[1;32m   (...)\u001b[0m\n\u001b[0;32m    129\u001b[0m \n\u001b[0;32m    130\u001b[0m \u001b[39melse\u001b[39;00m:\n\u001b[0;32m    131\u001b[0m     index \u001b[39m=\u001b[39m ensure_index(index)\n",
      "File \u001b[1;32mc:\\Users\\dkvhe\\AppData\\Local\\Programs\\Python\\Python311\\Lib\\site-packages\\pandas\\core\\internals\\construction.py:617\u001b[0m, in \u001b[0;36m_homogenize\u001b[1;34m(data, index, dtype)\u001b[0m\n\u001b[0;32m    614\u001b[0m             val \u001b[39m=\u001b[39m \u001b[39mdict\u001b[39m(val)\n\u001b[0;32m    615\u001b[0m         val \u001b[39m=\u001b[39m lib\u001b[39m.\u001b[39mfast_multiget(val, oindex\u001b[39m.\u001b[39m_values, default\u001b[39m=\u001b[39mnp\u001b[39m.\u001b[39mnan)\n\u001b[1;32m--> 617\u001b[0m     val \u001b[39m=\u001b[39m sanitize_array(\n\u001b[0;32m    618\u001b[0m         val, index, dtype\u001b[39m=\u001b[39;49mdtype, copy\u001b[39m=\u001b[39;49m\u001b[39mFalse\u001b[39;49;00m, raise_cast_failure\u001b[39m=\u001b[39;49m\u001b[39mFalse\u001b[39;49;00m\n\u001b[0;32m    619\u001b[0m     )\n\u001b[0;32m    620\u001b[0m     com\u001b[39m.\u001b[39mrequire_length_match(val, index)\n\u001b[0;32m    622\u001b[0m homogenized\u001b[39m.\u001b[39mappend(val)\n",
      "File \u001b[1;32mc:\\Users\\dkvhe\\AppData\\Local\\Programs\\Python\\Python311\\Lib\\site-packages\\pandas\\core\\construction.py:647\u001b[0m, in \u001b[0;36msanitize_array\u001b[1;34m(data, index, dtype, copy, raise_cast_failure, allow_2d)\u001b[0m\n\u001b[0;32m    644\u001b[0m             subarr \u001b[39m=\u001b[39m cast(np\u001b[39m.\u001b[39mndarray, subarr)\n\u001b[0;32m    645\u001b[0m             subarr \u001b[39m=\u001b[39m maybe_infer_to_datetimelike(subarr)\n\u001b[1;32m--> 647\u001b[0m subarr \u001b[39m=\u001b[39m _sanitize_ndim(subarr, data, dtype, index, allow_2d\u001b[39m=\u001b[39;49mallow_2d)\n\u001b[0;32m    649\u001b[0m \u001b[39mif\u001b[39;00m \u001b[39misinstance\u001b[39m(subarr, np\u001b[39m.\u001b[39mndarray):\n\u001b[0;32m    650\u001b[0m     \u001b[39m# at this point we should have dtype be None or subarr.dtype == dtype\u001b[39;00m\n\u001b[0;32m    651\u001b[0m     dtype \u001b[39m=\u001b[39m cast(np\u001b[39m.\u001b[39mdtype, dtype)\n",
      "File \u001b[1;32mc:\\Users\\dkvhe\\AppData\\Local\\Programs\\Python\\Python311\\Lib\\site-packages\\pandas\\core\\construction.py:698\u001b[0m, in \u001b[0;36m_sanitize_ndim\u001b[1;34m(result, data, dtype, index, allow_2d)\u001b[0m\n\u001b[0;32m    696\u001b[0m     \u001b[39mif\u001b[39;00m allow_2d:\n\u001b[0;32m    697\u001b[0m         \u001b[39mreturn\u001b[39;00m result\n\u001b[1;32m--> 698\u001b[0m     \u001b[39mraise\u001b[39;00m \u001b[39mValueError\u001b[39;00m(\u001b[39m\"\u001b[39m\u001b[39mData must be 1-dimensional\u001b[39m\u001b[39m\"\u001b[39m)\n\u001b[0;32m    699\u001b[0m \u001b[39mif\u001b[39;00m is_object_dtype(dtype) \u001b[39mand\u001b[39;00m \u001b[39misinstance\u001b[39m(dtype, ExtensionDtype):\n\u001b[0;32m    700\u001b[0m     \u001b[39m# i.e. PandasDtype(\"O\")\u001b[39;00m\n\u001b[0;32m    702\u001b[0m     result \u001b[39m=\u001b[39m com\u001b[39m.\u001b[39masarray_tuplesafe(data, dtype\u001b[39m=\u001b[39mnp\u001b[39m.\u001b[39mdtype(\u001b[39m\"\u001b[39m\u001b[39mobject\u001b[39m\u001b[39m\"\u001b[39m))\n",
      "\u001b[1;31mValueError\u001b[0m: Data must be 1-dimensional"
     ]
    }
   ],
   "source": [
    "df = pd.DataFrame(data.get('meas'))\n",
    "df.head()\n"
   ]
  },
  {
   "cell_type": "code",
   "execution_count": null,
   "metadata": {},
   "outputs": [],
   "source": [
    "df.to_csv('.//data.csv')"
   ]
  }
 ],
 "metadata": {
  "kernelspec": {
   "display_name": "Python 3",
   "language": "python",
   "name": "python3"
  },
  "language_info": {
   "codemirror_mode": {
    "name": "ipython",
    "version": 3
   },
   "file_extension": ".py",
   "mimetype": "text/x-python",
   "name": "python",
   "nbconvert_exporter": "python",
   "pygments_lexer": "ipython3",
   "version": "3.11.2"
  },
  "orig_nbformat": 4
 },
 "nbformat": 4,
 "nbformat_minor": 2
}
